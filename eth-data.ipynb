{
 "cells": [
  {
   "cell_type": "code",
   "execution_count": 1,
   "id": "166c83de",
   "metadata": {
    "_cell_guid": "4469e542-b122-4be2-917a-467e4beb7147",
    "_uuid": "87293b99-d5f9-435a-941a-33deac606085",
    "execution": {
     "iopub.execute_input": "2021-10-21T12:35:43.727323Z",
     "iopub.status.busy": "2021-10-21T12:35:43.725664Z",
     "iopub.status.idle": "2021-10-21T12:35:43.730093Z",
     "shell.execute_reply": "2021-10-21T12:35:43.730626Z",
     "shell.execute_reply.started": "2021-10-20T17:52:25.607011Z"
    },
    "jupyter": {
     "outputs_hidden": false
    },
    "papermill": {
     "duration": 0.023359,
     "end_time": "2021-10-21T12:35:43.730908",
     "exception": false,
     "start_time": "2021-10-21T12:35:43.707549",
     "status": "completed"
    },
    "tags": []
   },
   "outputs": [],
   "source": [
    "# This Python 3 environment comes with many helpful analytics libraries installed\n",
    "# It is defined by the kaggle/python Docker image: https://github.com/kaggle/docker-python\n",
    "# For example, here's several helpful packages to load\n",
    "\n",
    "#import numpy as np # linear algebra\n",
    "#import pandas as pd # data processing, CSV file I/O (e.g. pd.read_csv)\n",
    "\n",
    "# Input data files are available in the read-only \"../input/\" directory\n",
    "# For example, running this (by clicking run or pressing Shift+Enter) will list all files under the input directory\n",
    "\n",
    "#import os\n",
    "#for dirname, _, filenames in os.walk('/kaggle/input'):\n",
    "#    for filename in filenames:\n",
    "#        print(os.path.join(dirname, filename))\n",
    "\n",
    "# You can write up to 20GB to the current directory (/kaggle/working/) that gets preserved as output when you create a version using \"Save & Run All\" \n",
    "# You can also write temporary files to /kaggle/temp/, but they won't be saved outside of the current session"
   ]
  },
  {
   "cell_type": "code",
   "execution_count": 2,
   "id": "ef3e8cc8",
   "metadata": {
    "_cell_guid": "a3649cac-db64-4069-80ac-8f531aa83432",
    "_uuid": "44a33234-fe0f-4218-abc4-f23850fadf94",
    "execution": {
     "iopub.execute_input": "2021-10-21T12:35:43.761556Z",
     "iopub.status.busy": "2021-10-21T12:35:43.760674Z",
     "iopub.status.idle": "2021-10-21T12:35:43.763655Z",
     "shell.execute_reply": "2021-10-21T12:35:43.764119Z",
     "shell.execute_reply.started": "2021-10-21T12:10:10.628203Z"
    },
    "jupyter": {
     "outputs_hidden": false
    },
    "papermill": {
     "duration": 0.022378,
     "end_time": "2021-10-21T12:35:43.764283",
     "exception": false,
     "start_time": "2021-10-21T12:35:43.741905",
     "status": "completed"
    },
    "tags": []
   },
   "outputs": [],
   "source": [
    "from google.cloud import bigquery\n",
    "import pandas as pd"
   ]
  },
  {
   "cell_type": "code",
   "execution_count": 3,
   "id": "20937ae8",
   "metadata": {
    "_cell_guid": "4d70a045-db9f-4df2-befc-bdb4c2726bc9",
    "_uuid": "6f87ef98-d7c2-40a1-ba59-f08eb8db6929",
    "execution": {
     "iopub.execute_input": "2021-10-21T12:35:43.787982Z",
     "iopub.status.busy": "2021-10-21T12:35:43.787108Z",
     "iopub.status.idle": "2021-10-21T12:35:43.792157Z",
     "shell.execute_reply": "2021-10-21T12:35:43.792694Z",
     "shell.execute_reply.started": "2021-10-21T12:10:11.905972Z"
    },
    "jupyter": {
     "outputs_hidden": false
    },
    "papermill": {
     "duration": 0.018492,
     "end_time": "2021-10-21T12:35:43.792855",
     "exception": false,
     "start_time": "2021-10-21T12:35:43.774363",
     "status": "completed"
    },
    "tags": []
   },
   "outputs": [
    {
     "name": "stdout",
     "output_type": "stream",
     "text": [
      "Using Kaggle's public dataset BigQuery integration.\n"
     ]
    }
   ],
   "source": [
    "client = bigquery.Client()"
   ]
  },
  {
   "cell_type": "code",
   "execution_count": 4,
   "id": "e6abfdf6",
   "metadata": {
    "_cell_guid": "922345e2-bd0f-4774-9b56-1ff56e70fd69",
    "_uuid": "5fd68f03-8203-4164-a699-f24883cf92de",
    "execution": {
     "iopub.execute_input": "2021-10-21T12:35:43.817708Z",
     "iopub.status.busy": "2021-10-21T12:35:43.816773Z",
     "iopub.status.idle": "2021-10-21T12:35:43.821017Z",
     "shell.execute_reply": "2021-10-21T12:35:43.821478Z",
     "shell.execute_reply.started": "2021-10-21T12:10:13.073923Z"
    },
    "jupyter": {
     "outputs_hidden": false
    },
    "papermill": {
     "duration": 0.017996,
     "end_time": "2021-10-21T12:35:43.821640",
     "exception": false,
     "start_time": "2021-10-21T12:35:43.803644",
     "status": "completed"
    },
    "tags": []
   },
   "outputs": [],
   "source": [
    "query1 = \"\"\"\n",
    "SELECT \n",
    "  SUM(value/POWER(10,18)) AS sum_tx_ether,\n",
    "  AVG(gas_price*(receipt_gas_used/POWER(10,18))) AS avg_tx_gas_cost,\n",
    "  DATE(timestamp) AS tx_date\n",
    "FROM\n",
    "  `bigquery-public-data.crypto_ethereum.transactions` AS transactions,\n",
    "  `bigquery-public-data.crypto_ethereum.blocks` AS blocks\n",
    "WHERE TRUE\n",
    "  AND transactions.block_number = blocks.number\n",
    "  AND receipt_status = 1\n",
    "  AND value > 0\n",
    "GROUP BY tx_date\n",
    "HAVING tx_date >= '2018-01-01' AND tx_date <= '2018-12-31'\n",
    "ORDER BY tx_date\n",
    "\"\"\"\n",
    "query = \"\"\"\n",
    "SELECT \n",
    "  from_address,\n",
    "  to_address,\n",
    "  value\n",
    "FROM\n",
    "  `bigquery-public-data.crypto_ethereum.transactions`\n",
    "WHERE value > 0\n",
    "\"\"\""
   ]
  },
  {
   "cell_type": "code",
   "execution_count": 5,
   "id": "c2152195",
   "metadata": {
    "_cell_guid": "83dd30f7-a7c3-4584-a202-0ebd18f5d250",
    "_uuid": "a8b05c6d-9f21-4a00-a052-0ea9ac85b4f6",
    "execution": {
     "iopub.execute_input": "2021-10-21T12:35:43.846112Z",
     "iopub.status.busy": "2021-10-21T12:35:43.845195Z",
     "iopub.status.idle": "2021-10-21T12:35:43.849781Z",
     "shell.execute_reply": "2021-10-21T12:35:43.850357Z",
     "shell.execute_reply.started": "2021-10-21T12:10:14.049279Z"
    },
    "jupyter": {
     "outputs_hidden": false
    },
    "papermill": {
     "duration": 0.018445,
     "end_time": "2021-10-21T12:35:43.850531",
     "exception": false,
     "start_time": "2021-10-21T12:35:43.832086",
     "status": "completed"
    },
    "tags": []
   },
   "outputs": [],
   "source": [
    "def estimate_gigabytes_scanned(query, client):\n",
    "    # see https://cloud.google.com/bigquery/docs/reference/rest/v2/jobs#configuration.dryRun\n",
    "    my_job_config = bigquery.job.QueryJobConfig()\n",
    "    my_job_config.dry_run = True\n",
    "    my_job = client.query(query, job_config=my_job_config)\n",
    "    BYTES_PER_GB = 2**30\n",
    "    return my_job.total_bytes_processed / BYTES_PER_GB"
   ]
  },
  {
   "cell_type": "code",
   "execution_count": 6,
   "id": "4011e1c0",
   "metadata": {
    "_cell_guid": "5ff2cfcf-0587-4c17-8f10-6557f3c5d23c",
    "_uuid": "3dcb0c98-1c5c-4405-8ce4-4f466669100b",
    "execution": {
     "iopub.execute_input": "2021-10-21T12:35:43.875873Z",
     "iopub.status.busy": "2021-10-21T12:35:43.874907Z",
     "iopub.status.idle": "2021-10-21T12:35:43.879496Z",
     "shell.execute_reply": "2021-10-21T12:35:43.878971Z",
     "shell.execute_reply.started": "2021-10-21T12:10:14.987136Z"
    },
    "jupyter": {
     "outputs_hidden": false
    },
    "papermill": {
     "duration": 0.018132,
     "end_time": "2021-10-21T12:35:43.879632",
     "exception": false,
     "start_time": "2021-10-21T12:35:43.861500",
     "status": "completed"
    },
    "tags": []
   },
   "outputs": [],
   "source": [
    "#print('Estimated size: {:.2f} GB'.format(estimate_gigabytes_scanned(query, client)))"
   ]
  },
  {
   "cell_type": "code",
   "execution_count": 7,
   "id": "4006479b",
   "metadata": {
    "_cell_guid": "8a924303-34ff-4e1d-9b28-0828f65fe663",
    "_uuid": "bde0ef3c-6ad0-477a-be98-7e548a184fcb",
    "execution": {
     "iopub.execute_input": "2021-10-21T12:35:43.905662Z",
     "iopub.status.busy": "2021-10-21T12:35:43.905070Z",
     "iopub.status.idle": "2021-10-21T12:35:46.079802Z",
     "shell.execute_reply": "2021-10-21T12:35:46.079264Z",
     "shell.execute_reply.started": "2021-10-21T12:11:42.689419Z"
    },
    "jupyter": {
     "outputs_hidden": false
    },
    "papermill": {
     "duration": 2.189778,
     "end_time": "2021-10-21T12:35:46.079952",
     "exception": false,
     "start_time": "2021-10-21T12:35:43.890174",
     "status": "completed"
    },
    "tags": []
   },
   "outputs": [],
   "source": [
    "query_job = client.query(query)"
   ]
  },
  {
   "cell_type": "code",
   "execution_count": 8,
   "id": "40da3c7d",
   "metadata": {
    "_cell_guid": "36d139c7-e248-47d7-89bc-d08a0a9006c6",
    "_uuid": "cd1858d0-9bc1-4334-95cb-ffbf1cfa20d9",
    "execution": {
     "iopub.execute_input": "2021-10-21T12:35:46.109429Z",
     "iopub.status.busy": "2021-10-21T12:35:46.108753Z",
     "iopub.status.idle": "2021-10-21T12:37:44.640940Z",
     "shell.execute_reply": "2021-10-21T12:37:44.641485Z",
     "shell.execute_reply.started": "2021-10-21T12:14:10.158018Z"
    },
    "jupyter": {
     "outputs_hidden": false
    },
    "papermill": {
     "duration": 118.549757,
     "end_time": "2021-10-21T12:37:44.641684",
     "exception": false,
     "start_time": "2021-10-21T12:35:46.091927",
     "status": "completed"
    },
    "tags": []
   },
   "outputs": [
    {
     "name": "stdout",
     "output_type": "stream",
     "text": [
      "Iterator: 631391869 rows\n"
     ]
    }
   ],
   "source": [
    "START_INDEX = 0\n",
    "MAX_RESULTS = 1000000\n",
    "iterator = query_job.result(timeout=300, start_index=START_INDEX, max_results=MAX_RESULTS)\n",
    "TOTAL_ROWS = iterator.total_rows\n",
    "print('Iterator: {} rows'.format(TOTAL_ROWS))\n",
    "#rows = list(iterator)\n",
    "#print('Rows: done')"
   ]
  },
  {
   "cell_type": "code",
   "execution_count": 9,
   "id": "cc0bf42b",
   "metadata": {
    "_cell_guid": "bb10944f-6e22-4915-85cc-7f014b0f8a7f",
    "_uuid": "ba5ab174-6ad9-49ba-8968-bc4aed00bfbd",
    "execution": {
     "iopub.execute_input": "2021-10-21T12:37:44.668283Z",
     "iopub.status.busy": "2021-10-21T12:37:44.667664Z",
     "iopub.status.idle": "2021-10-21T12:37:44.670641Z",
     "shell.execute_reply": "2021-10-21T12:37:44.670089Z",
     "shell.execute_reply.started": "2021-10-21T12:14:18.286103Z"
    },
    "jupyter": {
     "outputs_hidden": false
    },
    "papermill": {
     "duration": 0.018149,
     "end_time": "2021-10-21T12:37:44.670773",
     "exception": false,
     "start_time": "2021-10-21T12:37:44.652624",
     "status": "completed"
    },
    "tags": []
   },
   "outputs": [],
   "source": [
    "from collections import defaultdict\n",
    "from decimal import Decimal\n",
    "import pickle\n",
    "balances = defaultdict(Decimal)"
   ]
  },
  {
   "cell_type": "code",
   "execution_count": 10,
   "id": "805ee1ea",
   "metadata": {
    "_cell_guid": "e6d4c309-776b-44dd-a31f-4c013705e29d",
    "_uuid": "bdccfa57-af01-4669-943b-bba81647a88b",
    "execution": {
     "iopub.execute_input": "2021-10-21T12:37:44.699268Z",
     "iopub.status.busy": "2021-10-21T12:37:44.698581Z",
     "iopub.status.idle": "2021-10-21T12:39:23.138692Z",
     "shell.execute_reply": "2021-10-21T12:39:23.138082Z",
     "shell.execute_reply.started": "2021-10-21T12:15:44.819021Z"
    },
    "jupyter": {
     "outputs_hidden": false
    },
    "papermill": {
     "duration": 98.457099,
     "end_time": "2021-10-21T12:39:23.138890",
     "exception": false,
     "start_time": "2021-10-21T12:37:44.681791",
     "status": "completed"
    },
    "tags": []
   },
   "outputs": [],
   "source": [
    "i = 0\n",
    "for row in iterator:\n",
    "    value = row.get('value')\n",
    "    balances[row.get('from_address')] -= value\n",
    "    balances[row.get('to_address')] += value\n",
    "    #i += 1\n",
    "    #if not (i % 1000000):\n",
    "    #    print('{} out of {}'.format(i, TOTAL_ROWS))"
   ]
  },
  {
   "cell_type": "code",
   "execution_count": 11,
   "id": "bd6dd532",
   "metadata": {
    "execution": {
     "iopub.execute_input": "2021-10-21T12:39:23.167876Z",
     "iopub.status.busy": "2021-10-21T12:39:23.166766Z",
     "iopub.status.idle": "2021-10-21T12:39:23.168687Z",
     "shell.execute_reply": "2021-10-21T12:39:23.169270Z",
     "shell.execute_reply.started": "2021-10-21T12:15:56.450459Z"
    },
    "papermill": {
     "duration": 0.018705,
     "end_time": "2021-10-21T12:39:23.169446",
     "exception": false,
     "start_time": "2021-10-21T12:39:23.150741",
     "status": "completed"
    },
    "tags": []
   },
   "outputs": [],
   "source": [
    "#from sys import getsizeof\n",
    "#print(getsizeof(balances))"
   ]
  },
  {
   "cell_type": "code",
   "execution_count": 12,
   "id": "a32cbdc9",
   "metadata": {
    "_cell_guid": "1ace5eb1-bf39-4281-9179-7c58dd3a5bab",
    "_uuid": "ba684c6f-5ea3-4f2d-9ce8-ae21bb1ed1ef",
    "execution": {
     "iopub.execute_input": "2021-10-21T12:39:23.196498Z",
     "iopub.status.busy": "2021-10-21T12:39:23.195538Z",
     "iopub.status.idle": "2021-10-21T12:39:25.786074Z",
     "shell.execute_reply": "2021-10-21T12:39:25.786611Z",
     "shell.execute_reply.started": "2021-10-21T11:59:22.703827Z"
    },
    "jupyter": {
     "outputs_hidden": false
    },
    "papermill": {
     "duration": 2.605237,
     "end_time": "2021-10-21T12:39:25.786791",
     "exception": false,
     "start_time": "2021-10-21T12:39:23.181554",
     "status": "completed"
    },
    "tags": []
   },
   "outputs": [],
   "source": [
    "#balances\n",
    "with open('data.pickle', 'wb') as f:\n",
    "    # Pickle the 'data' dictionary using the highest protocol available.\n",
    "    pickle.dump(balances, f, pickle.HIGHEST_PROTOCOL)"
   ]
  },
  {
   "cell_type": "code",
   "execution_count": 13,
   "id": "4e721937",
   "metadata": {
    "_cell_guid": "fef2af0d-dce1-4fa8-bdd3-98ed9ae6fda9",
    "_uuid": "6d116a05-5e66-4dce-ac49-fcaffbd67958",
    "execution": {
     "iopub.execute_input": "2021-10-21T12:39:25.812454Z",
     "iopub.status.busy": "2021-10-21T12:39:25.811790Z",
     "iopub.status.idle": "2021-10-21T12:39:25.814977Z",
     "shell.execute_reply": "2021-10-21T12:39:25.815503Z",
     "shell.execute_reply.started": "2021-10-20T17:53:37.178241Z"
    },
    "jupyter": {
     "outputs_hidden": false
    },
    "papermill": {
     "duration": 0.017921,
     "end_time": "2021-10-21T12:39:25.815698",
     "exception": false,
     "start_time": "2021-10-21T12:39:25.797777",
     "status": "completed"
    },
    "tags": []
   },
   "outputs": [],
   "source": [
    "#df = iterator.to_dataframe(progress_bar_type='tqdm_notebook')"
   ]
  },
  {
   "cell_type": "code",
   "execution_count": 14,
   "id": "d6c0239b",
   "metadata": {
    "_cell_guid": "9f538288-18d6-4af6-8d73-40e9a09c8d28",
    "_uuid": "aec7538b-05a0-49e1-8a85-5b7f3664a0b6",
    "execution": {
     "iopub.execute_input": "2021-10-21T12:39:25.841310Z",
     "iopub.status.busy": "2021-10-21T12:39:25.840674Z",
     "iopub.status.idle": "2021-10-21T12:39:25.843410Z",
     "shell.execute_reply": "2021-10-21T12:39:25.843886Z",
     "shell.execute_reply.started": "2021-10-20T17:53:37.182364Z"
    },
    "jupyter": {
     "outputs_hidden": false
    },
    "papermill": {
     "duration": 0.017255,
     "end_time": "2021-10-21T12:39:25.844073",
     "exception": false,
     "start_time": "2021-10-21T12:39:25.826818",
     "status": "completed"
    },
    "tags": []
   },
   "outputs": [],
   "source": [
    "#import requests\n",
    "#from bs4 import BeautifulSoup\n",
    "#import csv\n",
    "\n",
    "#URL = \"https://etherscan.io/accounts\"\n",
    "#resp = requests.get(URL)\n",
    "#sess = requests.Session()\n",
    "#soup = BeautifulSoup(sess.get(URL).text, 'html.parser')"
   ]
  }
 ],
 "metadata": {
  "kernelspec": {
   "display_name": "Python 3",
   "language": "python",
   "name": "python3"
  },
  "language_info": {
   "codemirror_mode": {
    "name": "ipython",
    "version": 3
   },
   "file_extension": ".py",
   "mimetype": "text/x-python",
   "name": "python",
   "nbconvert_exporter": "python",
   "pygments_lexer": "ipython3",
   "version": "3.9.6"
  },
  "papermill": {
   "default_parameters": {},
   "duration": 230.73455,
   "end_time": "2021-10-21T12:39:26.667379",
   "environment_variables": {},
   "exception": null,
   "input_path": "__notebook__.ipynb",
   "output_path": "__notebook__.ipynb",
   "parameters": {},
   "start_time": "2021-10-21T12:35:35.932829",
   "version": "2.3.3"
  }
 },
 "nbformat": 4,
 "nbformat_minor": 5
}
